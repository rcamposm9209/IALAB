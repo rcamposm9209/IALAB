{
  "nbformat": 4,
  "nbformat_minor": 0,
  "metadata": {
    "colab": {
      "provenance": [],
      "collapsed_sections": [],
      "authorship_tag": "ABX9TyMsRNZdF55fsrOMh1saEAag",
      "include_colab_link": true
    },
    "kernelspec": {
      "name": "python3",
      "display_name": "Python 3"
    },
    "language_info": {
      "name": "python"
    }
  },
  "cells": [
    {
      "cell_type": "markdown",
      "metadata": {
        "id": "view-in-github",
        "colab_type": "text"
      },
      "source": [
        "<a href=\"https://colab.research.google.com/github/rcamposm9209/IALAB/blob/main/Notas_tipos_aprendizaje.ipynb\" target=\"_parent\"><img src=\"https://colab.research.google.com/assets/colab-badge.svg\" alt=\"Open In Colab\"/></a>"
      ]
    },
    {
      "cell_type": "markdown",
      "source": [
        "# **Tipos de aprendizaje**"
      ],
      "metadata": {
        "id": "oAeO28nUabB-"
      }
    },
    {
      "cell_type": "markdown",
      "source": [
        "**Aprendizaje supervisado**\n",
        "Los datos de entrada bienen etiquetados. Crear un modelo a partir de datos que ya están etiquetados."
      ],
      "metadata": {
        "id": "5TfIwKAFbqEN"
      }
    },
    {
      "cell_type": "markdown",
      "source": [
        "**Aprendizaje no supervisado**\n",
        "Los datos de entrada no están asociados con resultados. No hay datos de entrada como en supervizado. El algoritmo debe encontrar autónomamente una estructura a partir de los datos de entrada."
      ],
      "metadata": {
        "id": "mGSoO7eGbyVD"
      }
    },
    {
      "cell_type": "markdown",
      "source": [
        "**Automatizado por refuerzo** El software interactua con un entorno dinámico en el que debe desempeñarse para alcanzar algunas metas.  Recibe retroalimentación en la forma de recompensas o castigos a medida que navega el espacio del problema. \n",
        "\n",
        "1.   Jugador de ajedrez/Go\n",
        "2.   Vehículos autónomos\n",
        "3.   Sistema antivirus"
      ],
      "metadata": {
        "id": "h8eXGQiBcvWK"
      }
    },
    {
      "cell_type": "markdown",
      "source": [
        "**Aprendizaje representacional (feature learning)** Apunta a aprender aspectos de alto nivel a partir de los datos de entrada. Puede ser supervizado o no.\n",
        "A menudo se usa como parte de un *procesamiento de los datos* para un mejor aprovechamiento o evitar pasos manuales.\n",
        "\n",
        "1.   Análisis de componentes principales (PCA)\n",
        "\n"
      ],
      "metadata": {
        "id": "M3F8-a4Wdab2"
      }
    },
    {
      "cell_type": "markdown",
      "source": [
        "**Aprendizaje evolutivo** Aplica algoritmos relacionados con la evolución biológica. Se evalúan individuos de acuerdo a su desempeño y solo sobreviven los más aptos, en este caso, versiones del algoritmo. Se habla de fitnees calculation."
      ],
      "metadata": {
        "id": "KOxOLyjMfNYh"
      }
    }
  ]
}